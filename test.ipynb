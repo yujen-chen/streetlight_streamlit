{
 "cells": [
  {
   "cell_type": "code",
   "execution_count": 2,
   "metadata": {},
   "outputs": [],
   "source": [
    "import streamlit as st\n",
    "import folium\n",
    "import geopandas as gpd\n",
    "import numpy as np\n",
    "import pandas as pd\n",
    "import matplotlib.pyplot as plt"
   ]
  },
  {
   "cell_type": "code",
   "execution_count": 3,
   "metadata": {},
   "outputs": [],
   "source": [
    "shn_gdf = gpd.read_file(\"SHN_Lines.geojson\")\n",
    "ca_gdf = gpd.read_file(\"California_County.geojson\")"
   ]
  },
  {
   "cell_type": "code",
   "execution_count": 73,
   "metadata": {},
   "outputs": [],
   "source": [
    "# replace county abbreviation in \n",
    "ca_county_map = {\n",
    "    'DN': 'DEL',\n",
    "    'ED': 'ELD',\n",
    "    'LA': 'LOS',\n",
    "    'MON': 'MNT',\n",
    "    'MPA': 'MRP', \n",
    "    'SB': 'SBA',\n",
    "    'SCR': 'SCZ',\n",
    "    'SD': 'SDG',\n",
    "    'SF': 'SFO',\n",
    "    'SJ': 'SJQ',\n",
    "    'SM': 'SMT',\n",
    "}\n",
    "shn_gdf['County'] = shn_gdf['County'].replace(ca_county_map)"
   ]
  },
  {
   "cell_type": "code",
   "execution_count": 90,
   "metadata": {},
   "outputs": [
    {
     "data": {
      "text/plain": [
       "58"
      ]
     },
     "execution_count": 90,
     "metadata": {},
     "output_type": "execute_result"
    }
   ],
   "source": [
    "sum(np.sort(shn_gdf['County'].unique()) == np.sort(ca_gdf['COUNTY_ABBREV'].unique()))"
   ]
  },
  {
   "cell_type": "code",
   "execution_count": 88,
   "metadata": {},
   "outputs": [
    {
     "data": {
      "text/html": [
       "<div>\n",
       "<style scoped>\n",
       "    .dataframe tbody tr th:only-of-type {\n",
       "        vertical-align: middle;\n",
       "    }\n",
       "\n",
       "    .dataframe tbody tr th {\n",
       "        vertical-align: top;\n",
       "    }\n",
       "\n",
       "    .dataframe thead th {\n",
       "        text-align: right;\n",
       "    }\n",
       "</style>\n",
       "<table border=\"1\" class=\"dataframe\">\n",
       "  <thead>\n",
       "    <tr style=\"text-align: right;\">\n",
       "      <th></th>\n",
       "      <th>OBJECTID</th>\n",
       "      <th>COUNTY_NAME</th>\n",
       "      <th>COUNTY_ABBREV</th>\n",
       "      <th>COUNTY_NUM</th>\n",
       "      <th>COUNTY_CODE</th>\n",
       "      <th>COUNTY_FIPS</th>\n",
       "      <th>ISLAND</th>\n",
       "      <th>GlobalID</th>\n",
       "      <th>SHAPE_Length</th>\n",
       "      <th>SHAPE_Area</th>\n",
       "      <th>geometry</th>\n",
       "    </tr>\n",
       "  </thead>\n",
       "  <tbody>\n",
       "    <tr>\n",
       "      <th>0</th>\n",
       "      <td>1</td>\n",
       "      <td>Alameda</td>\n",
       "      <td>ALA</td>\n",
       "      <td>1</td>\n",
       "      <td>01</td>\n",
       "      <td>001</td>\n",
       "      <td>None</td>\n",
       "      <td>{E6F92268-D2DD-4CFB-8B79-5B4B2F07C559}</td>\n",
       "      <td>2.538264</td>\n",
       "      <td>0.217411</td>\n",
       "      <td>MULTIPOLYGON (((-122.27125 37.90503, -122.2702...</td>\n",
       "    </tr>\n",
       "    <tr>\n",
       "      <th>1</th>\n",
       "      <td>2</td>\n",
       "      <td>Alpine</td>\n",
       "      <td>ALP</td>\n",
       "      <td>2</td>\n",
       "      <td>02</td>\n",
       "      <td>003</td>\n",
       "      <td>None</td>\n",
       "      <td>{870479B2-480A-494B-8352-AD60578839C1}</td>\n",
       "      <td>2.170420</td>\n",
       "      <td>0.198471</td>\n",
       "      <td>MULTIPOLYGON (((-119.58667 38.71420, -119.5865...</td>\n",
       "    </tr>\n",
       "    <tr>\n",
       "      <th>2</th>\n",
       "      <td>3</td>\n",
       "      <td>Amador</td>\n",
       "      <td>AMA</td>\n",
       "      <td>3</td>\n",
       "      <td>03</td>\n",
       "      <td>005</td>\n",
       "      <td>None</td>\n",
       "      <td>{4F45B3A6-BE10-461C-8945-6B2AAA7119F6}</td>\n",
       "      <td>2.924268</td>\n",
       "      <td>0.161961</td>\n",
       "      <td>MULTIPOLYGON (((-120.07246 38.70276, -120.0724...</td>\n",
       "    </tr>\n",
       "  </tbody>\n",
       "</table>\n",
       "</div>"
      ],
      "text/plain": [
       "   OBJECTID COUNTY_NAME COUNTY_ABBREV  COUNTY_NUM COUNTY_CODE COUNTY_FIPS  \\\n",
       "0         1     Alameda           ALA           1          01         001   \n",
       "1         2      Alpine           ALP           2          02         003   \n",
       "2         3      Amador           AMA           3          03         005   \n",
       "\n",
       "  ISLAND                                GlobalID  SHAPE_Length  SHAPE_Area  \\\n",
       "0   None  {E6F92268-D2DD-4CFB-8B79-5B4B2F07C559}      2.538264    0.217411   \n",
       "1   None  {870479B2-480A-494B-8352-AD60578839C1}      2.170420    0.198471   \n",
       "2   None  {4F45B3A6-BE10-461C-8945-6B2AAA7119F6}      2.924268    0.161961   \n",
       "\n",
       "                                            geometry  \n",
       "0  MULTIPOLYGON (((-122.27125 37.90503, -122.2702...  \n",
       "1  MULTIPOLYGON (((-119.58667 38.71420, -119.5865...  \n",
       "2  MULTIPOLYGON (((-120.07246 38.70276, -120.0724...  "
      ]
     },
     "execution_count": 88,
     "metadata": {},
     "output_type": "execute_result"
    }
   ],
   "source": [
    "ca_gdf.head(3)"
   ]
  },
  {
   "cell_type": "code",
   "execution_count": 98,
   "metadata": {},
   "outputs": [],
   "source": [
    "ca_gdf = ca_gdf[['OBJECTID', 'COUNTY_NAME', 'COUNTY_ABBREV', 'COUNTY_NUM', 'ISLAND', 'geometry']].rename(columns={\n",
    "    'COUNTY_NAME': 'County_name',\n",
    "    'COUNTY_ABBREV': 'County',\n",
    "    'COUNTY_NUM': 'County_num',\n",
    "    'ISLAND': 'Island',\n",
    "    })"
   ]
  },
  {
   "cell_type": "code",
   "execution_count": 100,
   "metadata": {},
   "outputs": [],
   "source": [
    "ca_gdf.to_file(\"ca_counties_processed.geojson\", driver='GeoJSON')"
   ]
  },
  {
   "cell_type": "code",
   "execution_count": 87,
   "metadata": {},
   "outputs": [
    {
     "data": {
      "text/html": [
       "<div>\n",
       "<style scoped>\n",
       "    .dataframe tbody tr th:only-of-type {\n",
       "        vertical-align: middle;\n",
       "    }\n",
       "\n",
       "    .dataframe tbody tr th {\n",
       "        vertical-align: top;\n",
       "    }\n",
       "\n",
       "    .dataframe thead th {\n",
       "        text-align: right;\n",
       "    }\n",
       "</style>\n",
       "<table border=\"1\" class=\"dataframe\">\n",
       "  <thead>\n",
       "    <tr style=\"text-align: right;\">\n",
       "      <th></th>\n",
       "      <th>OBJECTID</th>\n",
       "      <th>Route</th>\n",
       "      <th>RteSuffix</th>\n",
       "      <th>RouteS</th>\n",
       "      <th>PMRouteID</th>\n",
       "      <th>County</th>\n",
       "      <th>District</th>\n",
       "      <th>PMPrefix</th>\n",
       "      <th>bPM</th>\n",
       "      <th>ePM</th>\n",
       "      <th>PMSuffix</th>\n",
       "      <th>bPMc</th>\n",
       "      <th>ePMc</th>\n",
       "      <th>bOdometer</th>\n",
       "      <th>eOdometer</th>\n",
       "      <th>AlignCode</th>\n",
       "      <th>RouteType</th>\n",
       "      <th>Direction</th>\n",
       "      <th>Shape_Length</th>\n",
       "      <th>geometry</th>\n",
       "    </tr>\n",
       "  </thead>\n",
       "  <tbody>\n",
       "    <tr>\n",
       "      <th>0</th>\n",
       "      <td>1</td>\n",
       "      <td>80</td>\n",
       "      <td></td>\n",
       "      <td>80</td>\n",
       "      <td>PLA080.R.L</td>\n",
       "      <td>PLA</td>\n",
       "      <td>3</td>\n",
       "      <td>R</td>\n",
       "      <td>55.008</td>\n",
       "      <td>56.078</td>\n",
       "      <td></td>\n",
       "      <td>R55.008</td>\n",
       "      <td>R56.078</td>\n",
       "      <td>156.512</td>\n",
       "      <td>157.582</td>\n",
       "      <td>Left</td>\n",
       "      <td>Interstate</td>\n",
       "      <td>WB</td>\n",
       "      <td>0.018392</td>\n",
       "      <td>MULTILINESTRING ((-120.67684 39.29449, -120.67...</td>\n",
       "    </tr>\n",
       "    <tr>\n",
       "      <th>1</th>\n",
       "      <td>2</td>\n",
       "      <td>80</td>\n",
       "      <td></td>\n",
       "      <td>80</td>\n",
       "      <td>PLA080...L</td>\n",
       "      <td>PLA</td>\n",
       "      <td>3</td>\n",
       "      <td></td>\n",
       "      <td>52.947</td>\n",
       "      <td>55.008</td>\n",
       "      <td></td>\n",
       "      <td>52.947</td>\n",
       "      <td>55.008</td>\n",
       "      <td>154.451</td>\n",
       "      <td>156.512</td>\n",
       "      <td>Left</td>\n",
       "      <td>Interstate</td>\n",
       "      <td>WB</td>\n",
       "      <td>0.036842</td>\n",
       "      <td>MULTILINESTRING ((-120.71081 39.28112, -120.71...</td>\n",
       "    </tr>\n",
       "    <tr>\n",
       "      <th>2</th>\n",
       "      <td>3</td>\n",
       "      <td>80</td>\n",
       "      <td></td>\n",
       "      <td>80</td>\n",
       "      <td>PLA080..LL</td>\n",
       "      <td>PLA</td>\n",
       "      <td>3</td>\n",
       "      <td></td>\n",
       "      <td>49.180</td>\n",
       "      <td>52.947</td>\n",
       "      <td>L</td>\n",
       "      <td>49.18L</td>\n",
       "      <td>52.947L</td>\n",
       "      <td>150.684</td>\n",
       "      <td>154.451</td>\n",
       "      <td>Left Independent</td>\n",
       "      <td>Interstate</td>\n",
       "      <td>WB</td>\n",
       "      <td>0.060406</td>\n",
       "      <td>MULTILINESTRING ((-120.75254 39.23983, -120.75...</td>\n",
       "    </tr>\n",
       "  </tbody>\n",
       "</table>\n",
       "</div>"
      ],
      "text/plain": [
       "   OBJECTID  Route RteSuffix RouteS   PMRouteID County  District PMPrefix  \\\n",
       "0         1     80               80  PLA080.R.L    PLA         3        R   \n",
       "1         2     80               80  PLA080...L    PLA         3            \n",
       "2         3     80               80  PLA080..LL    PLA         3            \n",
       "\n",
       "      bPM     ePM PMSuffix     bPMc     ePMc  bOdometer  eOdometer  \\\n",
       "0  55.008  56.078           R55.008  R56.078    156.512    157.582   \n",
       "1  52.947  55.008            52.947   55.008    154.451    156.512   \n",
       "2  49.180  52.947        L   49.18L  52.947L    150.684    154.451   \n",
       "\n",
       "          AlignCode   RouteType Direction  Shape_Length  \\\n",
       "0              Left  Interstate        WB      0.018392   \n",
       "1              Left  Interstate        WB      0.036842   \n",
       "2  Left Independent  Interstate        WB      0.060406   \n",
       "\n",
       "                                            geometry  \n",
       "0  MULTILINESTRING ((-120.67684 39.29449, -120.67...  \n",
       "1  MULTILINESTRING ((-120.71081 39.28112, -120.71...  \n",
       "2  MULTILINESTRING ((-120.75254 39.23983, -120.75...  "
      ]
     },
     "execution_count": 87,
     "metadata": {},
     "output_type": "execute_result"
    }
   ],
   "source": [
    "shn_gdf.head(3)"
   ]
  },
  {
   "cell_type": "code",
   "execution_count": null,
   "metadata": {},
   "outputs": [],
   "source": [
    "shn_gdf = shn_gdf[['OBJECTID', 'Route', 'RouteS', 'County', 'District', 'bPM', 'ePM', 'bOdometer', 'eOdometer', 'AlignCode', 'RouteType', 'Direction', 'geometry']]\n",
    "shn_gdf.to_file(\"SHN_Lines_processed.geojson\", driver='GeoJSON')"
   ]
  },
  {
   "cell_type": "code",
   "execution_count": null,
   "metadata": {},
   "outputs": [],
   "source": []
  },
  {
   "cell_type": "markdown",
   "metadata": {},
   "source": [
    "# Center"
   ]
  },
  {
   "cell_type": "code",
   "execution_count": 1,
   "metadata": {},
   "outputs": [
    {
     "name": "stderr",
     "output_type": "stream",
     "text": [
      "/var/folders/zw/0qm25w_977d1zq7kcs7rj93c0000gn/T/ipykernel_27252/1494216259.py:8: UserWarning: Geometry is in a geographic CRS. Results from 'centroid' are likely incorrect. Use 'GeoSeries.to_crs()' to re-project geometries to a projected CRS before this operation.\n",
      "\n",
      "  counties_centers = california_counties.geometry.centroid\n"
     ]
    },
    {
     "data": {
      "text/plain": [
       "(0     POINT (-121.91857 37.65045)\n",
       " 1     POINT (-119.82020 38.59794)\n",
       " 2     POINT (-120.65133 38.44628)\n",
       " 3     POINT (-121.60066 39.66696)\n",
       " 4     POINT (-120.55377 38.20501)\n",
       "                  ...             \n",
       " 64    POINT (-119.39338 34.00575)\n",
       " 65    POINT (-119.42571 34.01103)\n",
       " 66    POINT (-119.36723 34.01469)\n",
       " 67    POINT (-118.48527 32.90015)\n",
       " 68    POINT (-118.43309 33.38198)\n",
       " Length: 69, dtype: geometry,\n",
       " <POINT (-119.617 37.248)>)"
      ]
     },
     "execution_count": 1,
     "metadata": {},
     "output_type": "execute_result"
    }
   ],
   "source": [
    "import geopandas as gpd\n",
    "\n",
    "# 载入 GeoJSON 文件\n",
    "file_path = 'California_County_Boundaries.geojson'\n",
    "california_counties = gpd.read_file(file_path)\n",
    "\n",
    "# 计算每个县的中心点\n",
    "counties_centers = california_counties.geometry.centroid\n",
    "\n",
    "# 计算整个加利福尼亚州的中心点\n",
    "california_center = california_counties.unary_union.centroid\n",
    "\n",
    "counties_centers, california_center\n",
    "\n"
   ]
  },
  {
   "cell_type": "code",
   "execution_count": 2,
   "metadata": {},
   "outputs": [
    {
     "name": "stderr",
     "output_type": "stream",
     "text": [
      "/var/folders/zw/0qm25w_977d1zq7kcs7rj93c0000gn/T/ipykernel_27252/3624013006.py:8: UserWarning: Geometry is in a geographic CRS. Results from 'centroid' are likely incorrect. Use 'GeoSeries.to_crs()' to re-project geometries to a projected CRS before this operation.\n",
      "\n",
      "  highways_centers = california_highways.geometry.centroid\n"
     ]
    },
    {
     "data": {
      "text/plain": [
       "(0       POINT (-120.66945 39.29930)\n",
       " 1       POINT (-120.69396 39.28838)\n",
       " 2       POINT (-120.73166 39.26038)\n",
       " 3       POINT (-120.88649 39.14156)\n",
       " 4       POINT (-121.17990 38.82293)\n",
       "                    ...             \n",
       " 5233    POINT (-121.55943 37.74287)\n",
       " 5234    POINT (-121.56670 37.74232)\n",
       " 5235    POINT (-121.41694 37.75979)\n",
       " 5236    POINT (-121.52947 37.74240)\n",
       " 5237    POINT (-121.55684 37.74323)\n",
       " Length: 5238, dtype: geometry,\n",
       " <POINT (-119.783 36.676)>)"
      ]
     },
     "execution_count": 2,
     "metadata": {},
     "output_type": "execute_result"
    }
   ],
   "source": [
    "import geopandas as gpd\n",
    "\n",
    "# 载入 GeoJSON 文件\n",
    "file_path = 'SHN_Lines.geojson'\n",
    "california_highways = gpd.read_file(file_path)\n",
    "\n",
    "# 计算每个县的中心点\n",
    "highways_centers = california_highways.geometry.centroid\n",
    "\n",
    "# 计算整个加利福尼亚州的中心点\n",
    "california_hw_center = california_highways.unary_union.centroid\n",
    "\n",
    "highways_centers, california_hw_center"
   ]
  }
 ],
 "metadata": {
  "kernelspec": {
   "display_name": "streamlit_env",
   "language": "python",
   "name": "python3"
  },
  "language_info": {
   "codemirror_mode": {
    "name": "ipython",
    "version": 3
   },
   "file_extension": ".py",
   "mimetype": "text/x-python",
   "name": "python",
   "nbconvert_exporter": "python",
   "pygments_lexer": "ipython3",
   "version": "3.11.5"
  }
 },
 "nbformat": 4,
 "nbformat_minor": 2
}
